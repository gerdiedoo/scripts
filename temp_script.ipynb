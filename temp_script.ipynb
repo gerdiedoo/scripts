{
 "cells": [
  {
   "cell_type": "code",
   "execution_count": null,
   "metadata": {},
   "outputs": [],
   "source": [
    "!pip install pandas\n",
    "!pip install xlsxwriter\n",
    "!pip install xlrd\n",
    "!pip install openpyxl"
   ]
  },
  {
   "cell_type": "code",
   "execution_count": 1,
   "metadata": {},
   "outputs": [],
   "source": [
    "import pandas as pd\n"
   ]
  },
  {
   "cell_type": "code",
   "execution_count": 2,
   "metadata": {},
   "outputs": [],
   "source": [
    "def func(value):\n",
    "    return ''.join(value.splitlines())"
   ]
  },
  {
   "cell_type": "code",
   "execution_count": 7,
   "metadata": {},
   "outputs": [],
   "source": [
    "municipalities = [\"Baao\", \"Balatan\", \"Bato\", \"Bombon\", \"Buhi\", \"Bula\", \"Cabusao\", \"Calabanga\", \"Camaligan\", \"Canaman\", \"Caramoan\", \"Del Gallego\", \"Gainza\", \"Garchitorena\", \"Goa\", \"Iriga\", \"Lagonoy\", \"Libmanan\", \"Lupi\", \"Magarao\", \"Milaor\", \"Minalabac\", \"Nabua\", \"Naga\", \"Ocampo\", \"Pamplona\", \"Pasacao\", \"Pili\", \"Presentacion\", \"Ragay \", \"Sagñay\", \"San Fernando\", \"San Jose\", \"Sipocot\", \"Siruma\", \"Tigaon\", \"Tinambac\"]\n"
   ]
  },
  {
   "cell_type": "code",
   "execution_count": 34,
   "metadata": {},
   "outputs": [],
   "source": [
    "df = pd.DataFrame({ 'City/Municipality': [],\n",
    "                    'History': [],\n",
    "                    'Picture': [],\n",
    "\n",
    "                    'Tourist spot name':[],\n",
    "                    'Picture':[],\n",
    "                    'Address':[],\n",
    "                    'Schedule':[],\n",
    "                    'Contact Information':[],\n",
    "                    'Activities':[],\n",
    "                    'Popularity':[],\n",
    "                    'Comment':[],\n",
    "\n",
    "                    'Food name':[],\n",
    "                    'Picture':[],\n",
    "                    'Address':[],\n",
    "                    'Schedule':[],\n",
    "                    'Price range':[],\n",
    "                    'Must Try':[],\n",
    "                    'Contact Information':[],\n",
    "                    'Comments':[],\n",
    "\n",
    "                    'Auto repair shop name':[],\n",
    "                    'Picture':[],\n",
    "                    'Address':[],\n",
    "                    'Schedule':[],\n",
    "                    'Comments':[],\n",
    "\n",
    "                    'Gas station name':[],\n",
    "                    'Picture':[],\n",
    "                    'Address':[],\n",
    "                    'Schedule':[],\n",
    "                    'Comments':[],\n",
    "\n",
    "                    'Convenient Store / Market / Mall name':[],\n",
    "                    'Picture':[],\n",
    "                    'Address':[],\n",
    "                    'Contact Information':[],\n",
    "                    'Schedule':[],\n",
    "\n",
    "                    'Help name':[],\n",
    "                    'Picture':[],\n",
    "                    'Address':[],\n",
    "                    'Schedule':[],\n",
    "                    'Contact Information':[],\n",
    "                    'Comments':[],\n",
    "\n",
    "                    'Bank name':[],\n",
    "                    'Picture':[],\n",
    "                    'Address':[],\n",
    "                    'Schedule':[],\n",
    "                    'Comments':[],\n",
    "                    \n",
    "                    'Event name':[],\n",
    "                    'Picture':[],\n",
    "                    'Description':[],\n",
    "                    'Date':[],\n",
    "                    'Comments':[],\n",
    "                    'Trivia about the city':[]\n",
    "                    })"
   ]
  },
  {
   "cell_type": "code",
   "execution_count": 36,
   "metadata": {},
   "outputs": [
    {
     "data": {
      "text/plain": [
       "Series([], Name: City/Municipality, dtype: float64)"
      ]
     },
     "execution_count": 36,
     "metadata": {},
     "output_type": "execute_result"
    }
   ],
   "source": [
    "# df.iat[0,0]\n",
    "df ['City/Municipality']\n",
    "writer = pd.ExcelWriter('demo.xlsx', engine='xlsxwriter')\n",
    "# df.to_excel(writer, sheet_name='Sheet1', index=False)\n",
    "# df.to_excel(writer, sheet_name='Sheet2', index=False)\n",
    "\n",
    "for item in municipalities:\n",
    "    df.to_excel(writer, sheet_name=item, index=False)\n",
    "writer.close()"
   ]
  },
  {
   "cell_type": "code",
   "execution_count": 29,
   "metadata": {},
   "outputs": [],
   "source": [
    "f = open(\"raw_data_iriga.txt\", \"r\")\n",
    "processed_data = f.read()\n",
    "processed_data = processed_data.split('\\n')\n",
    "# temp = f.read()"
   ]
  },
  {
   "cell_type": "code",
   "execution_count": 35,
   "metadata": {},
   "outputs": [],
   "source": [
    "# with open(\"raw_data_iriga.txt\",'r') as file:\n",
    "raw_data = []\n",
    "for line in processed_data:\n",
    "    data = line.strip().split('./')\n",
    "    raw_data.append(data)\n",
    "    # print(data)\n",
    "str_list = []\n",
    "for item in raw_data:\n",
    "    if item != ['']:\n",
    "        str_list.append(item)"
   ]
  },
  {
   "cell_type": "code",
   "execution_count": 37,
   "metadata": {},
   "outputs": [],
   "source": [
    "# str_list = list(filter(None, raw_data[0]))\n",
    "# str_list\n",
    "# for item in raw_data:\n",
    "#     str_list.append(list(filter(None, item)))\n"
   ]
  },
  {
   "cell_type": "code",
   "execution_count": 38,
   "metadata": {},
   "outputs": [
    {
     "data": {
      "text/plain": [
       "[['', 'City of Iriga'],\n",
       " ['', 'History'],\n",
       " ['Iriga was converted into a city through the signing of R.A. 5261 otherwise known as the Charter of Iriga City on July 8, 1968 by then President Ferdinand E. Marcos. The City, however, was formally organized and inaugurated as the third city of Bicol on September 3, 1968 by Presidential Proclamation and officiated by the President of the Philippines. Since then, Iriga City has developed tremendously making it not only as a center of trade and commerce in the Rinconada area but the whole Bicol Region as well, if not the entire Southern Luzon, as it is strategically located between the cities of Naga and Legaspi. The City of Iriga had a population of 97,983 in 2007 (2007 NSO Survey) and an average growth rate of 1.46 percent per annum. This population is distributed in 19,957 households or an average household size of 5.1 in 36 barangays. This is projected to increase to 106,886 population & 20,958 households. A 4th class city, it has an annual income of P321,196,898.00 in 2010. In the May 10, 2004 elections, Hon. Madelaine Y. Alfelor-Gazmen, the first lady mayor of Iriga City was elected with Jose SG. Villlanueva, Jr. as her Vice-Mayor, and assumed office on July 1, 2004.'],\n",
       " ['', 'Tourist spot'],\n",
       " ['Calvario Hill and Emerald Grotto'],\n",
       " ['Iriga City Park'],\n",
       " ['Gawad Kalinga Character Village'],\n",
       " ['Sabang and Tubigan Falls'],\n",
       " ['Inorogan Shrine'],\n",
       " ['Philtranco Heritage Museum'],\n",
       " ['', 'Food'],\n",
       " ['name : Desny Grill Bar Resto & Cafe'],\n",
       " ['(address : CCH8+2GG, Lourdes Hospital Rd, City of Iriga, 4431 Camarines Sur,  Philippines)'],\n",
       " ['name : MCM Restaurant, coffeeshop and bakeshop'],\n",
       " ['address : CCC6+CP City of Iriga, Camarines Sur'],\n",
       " ['name : Rooftop Ave'],\n",
       " ['address : CCC4+6PR, Rooftop Ave, Everest Plaza, City of Iriga, Philippines'],\n",
       " ['name : Biggs Diner'],\n",
       " ['address : CCC6+HV City of Iriga, Camarines Sur'],\n",
       " ['name : Jollibee Iriga'],\n",
       " ['address : CCC6+67 City of Iriga, Camarines Sur'],\n",
       " ['name : Adrianas Diner'],\n",
       " ['address : CCG9+99 City of Iriga, Camarines Sur'],\n",
       " ['name : Palermo Eatery'],\n",
       " ['address : C9VX+MGF, Iriga - Baao Rd, City of Iriga, Camarines Sur, Philippines'],\n",
       " ['name : Jeongs Don Unlimited samgyupsal in iriga'],\n",
       " ['address : C98W+J4 City of Iriga, Camarines Sur'],\n",
       " ['name : KUSINANG MUNTI RESTAURANT (Correct Address)'],\n",
       " ['address : CCCF+46 City of Iriga, Camarines Sur'],\n",
       " ['name : Iriga Citys SUPER-SABAW'],\n",
       " ['(address : CCF7+CQW, San Antonio subd, San Roque, City of Iriga, Camarines Sur, Philippines)'],\n",
       " ['name : Graceland'],\n",
       " ['address : CCC6+538, Rizal St, City of Iriga, Camarines Sur, Philippines'],\n",
       " ['name : Estap oWber Street Foods atbp. Iriga Branch'],\n",
       " ['address : CCC4+5H City of Iriga, Camarines Sur'],\n",
       " ['name : Francisco iriga camsur Powered by Negeosyo Depot\\\\'],\n",
       " ['address : CC87+X69, City of Iriga, Camarines Sur, Philippines'],\n",
       " ['name : Shakeys - Iriga'],\n",
       " ['address : CCF7+2RR, 1, City of Iriga, Camarines Sur, Philippines'],\n",
       " ['name : Above Sea Level - Iriga'],\n",
       " ['address : CCH8+8JR, City of Iriga, 4431 Camarines Sur, Philippines'],\n",
       " ['name : Bhoy Eatery'],\n",
       " ['(address : CC93+J3P, Nabua - Iriga Rd, City of Iriga, Camarines Sur,  Philippines)'],\n",
       " ['name : Gildas Kitchen'],\n",
       " ['address : CCC8+83X, Iriga, City of Iriga, Camarines Sur, Philippines'],\n",
       " ['name : Bulalohan ni Totoy - Iriga'],\n",
       " ['address : CCC6+GJ City of Iriga, Camarines Sur'],\n",
       " ['name : Frenz King Pares'],\n",
       " ['address : CCC5+HR5, Ortega Street, City of Iriga, Camarines Sur, Philippines'],\n",
       " ['name : Ka-PARES Grill and Restaurant'],\n",
       " ['address : CC93+WV City of Iriga, Camarines Sur'],\n",
       " ['', 'Transportation'],\n",
       " ['Phitranco Iriga City'],\n",
       " ['Iriga City Terminal'],\n",
       " ['', ' Auto repair shop/ Motor & car deals'],\n",
       " [\"'name : EB Saulon Motor Works'\"],\n",
       " [\"'address : CC65+VP9, City of Iriga, Camarines Sur, Philippines'\"],\n",
       " [\"'name : DE LAS LLAGAS AUTO REPAIR SHOP'\"],\n",
       " [\"'address : CCG8+9C City of Iriga, Camarines Sur'\"],\n",
       " [\"'name : Mr. Mekaniko'\"],\n",
       " [\"'address : C9WV+FQ City of Iriga, Camarines Sur'\"],\n",
       " [\"'name : Saman Electrical Shop'\"],\n",
       " [\"'address : CCF8+842, City of Iriga, Camarines Sur, Philippines'\"],\n",
       " [\"'name : Boning electrical shop'\"],\n",
       " [\"'address : CCG8+CG3, City of Iriga, Camarines Sur, Philippines'\"],\n",
       " ['\"name : (BLB) NARD\\'S BERIÃ‘A AUTO/DIESEL\"'],\n",
       " [\"'address : 9CP3+Q2, City of Iriga, Camarines Sur, Philippines'\"],\n",
       " [\"'name : NAGRAMPA RESIDENCE'\"],\n",
       " [\"'address : CCC9+HQV, City of Iriga, Camarines Sur, Philippines'\"],\n",
       " [\"'name : CARFIX AUTO BODY PAINTING AND REPAIR SERVICES'\"],\n",
       " [\"'address : CC97+83 City of Iriga, Camarines Sur'\"],\n",
       " [\"'name : Bongbax Auto Care'\"],\n",
       " [\"'address : F92G+VVV, Iriga - Baao Rd, Baao, Camarines Sur, Philippines'\"],\n",
       " [\"'name : Joun Motor Shop'\"],\n",
       " [\"'address : CCR3+Q7G, Iriga - Baao Rd, City of Iriga, Camarines Sur, Philippines'\"],\n",
       " [\"'name : Moran-Abaga 2S Shop'\"],\n",
       " [\"'address : CCH8+8HX, Iriga - Baao Rd, City of Iriga, Camarines Sur, Philippines'\"],\n",
       " [\"'name : Rh Benz Tire Center'\"],\n",
       " [\"'address : CCP6+2G City of Iriga, Camarines Sur'\"],\n",
       " [\"'name : SlackShop motors.'\"],\n",
       " [\"'address : C9VX+P9 City of Iriga, Camarines Sur'\"],\n",
       " [\"'name : Volganazing shop'\"],\n",
       " [\"'address : 9CP3+P3R, Poblacion, City of Iriga, Camarines Sur, Philippines'\"],\n",
       " [\"'name : Ivan Motor Services and Vulcanizing Shop'\"],\n",
       " [\"'address : GFH2+XX City of Iriga, Camarines Sur'\"],\n",
       " [\"'name : Badong Motorcycle Customization and Mufflers'\"],\n",
       " [\"'address : F92G+Q7R, Iriga - Baao Rd, Baao, Camarines Sur, Philippines'\"],\n",
       " [\"'name : Paldo motorcyle parts and accessories'\"],\n",
       " [\"'address : CCW2+JR City of Iriga, Camarines Sur'\"],\n",
       " [\"'name : Queenbell Motozone'\"],\n",
       " [\"'address : CC95+G7 City of Iriga, Camarines Sur'\"],\n",
       " [\"'name : Lifebank microfinance foundation inc'\"],\n",
       " [\"'address : CCP9+MF City of Iriga, Camarines Sur'\"],\n",
       " [\"'name : RalfsWorkz (RSpeedMotorParts)'\"],\n",
       " [\"'address : CCH8+R79, City of Iriga, Camarines Sur, Philippines'\"],\n",
       " ['', 'Convenience store'],\n",
       " ['Lcc express mart San Agustin'],\n",
       " ['OrangeJD Mini Mart'],\n",
       " ['7 - eleven'],\n",
       " ['Puregold Iriga City'],\n",
       " ['', 'Help'],\n",
       " ['', 'Bank'],\n",
       " [\"'name : Philippine National Bank'\"],\n",
       " [\"'address : CCC6+8M7, City of Iriga, Camarines Sur, Philippines'\"],\n",
       " [\"'name : BDO Iriga City Branch'\"],\n",
       " [\"'address : CCC6+2P City of Iriga, Camarines Sur'\"],\n",
       " [\"'name : Land Bank'\"],\n",
       " [\"'address : CCC7+5PR, City of Iriga, Camarines Sur, Philippines'\"],\n",
       " [\"'name : CitySavings - Iriga Branch'\"],\n",
       " [\"'address : CCC4+6M6, City of Iriga, Camarines Sur, Philippines'\"],\n",
       " [\"'name : Chinabank'\"],\n",
       " [\"'address : CCC6+748, Rizal St, City of Iriga, Camarines Sur, Philippines'\"],\n",
       " [\"'name : BPI Camarines Sur - Iriga'\"],\n",
       " [\"'address : CC96+WR City of Iriga, Camarines Sur'\"],\n",
       " [\"'name : Metrobank Iriga, Camarines Sur'\"],\n",
       " [\"'address : CCC6+FC City of Iriga, Camarines Sur'\"],\n",
       " [\"'name : Isabel Financial Services - Iriga City Branch'\"],\n",
       " [\"('address : CCC8+M7F, Trinidad Building, San Roque, Iriga City, Camarines Sur, City of Iriga, Philippines')\"],\n",
       " [\"'name : Banko Iriga'\"],\n",
       " [\"'address : CCC6+C6J, Southbound Rd, City of Iriga, Camarines Sur, Philippines'\"],\n",
       " [\"'name : Legazpi Savings Bank'\"],\n",
       " [\"'address : CCR3+HFM, Iriga - Baao Rd, City of Iriga, Camarines Sur, Philippines'\"],\n",
       " [\"'name : Philippine Business Bank'\"],\n",
       " [\"'address : CCC4+CV City of Iriga, Camarines Sur'\"],\n",
       " [\"'name : Development Bank of the Philippines'\"],\n",
       " [\"'address : CC97+V9 City of Iriga, Camarines Sur'\"],\n",
       " [\"'name : The Rural Bank of Camalig'\"],\n",
       " [\"('address : CCC7+9PW, Camalig Bank Building, Guevara Street, San Roque, City of Iriga, 4431 Camarines Sur, Philippines')\"],\n",
       " [\"'name : BDO Iriga City - Puregold Branch'\"],\n",
       " [\"'address : CCC6+HW City of Iriga, Camarines Sur'\"],\n",
       " [\"'name : BPI Family Savings Iriga Branch ATM & CAM'\"],\n",
       " [\"'address : CCC9+56 City of Iriga, Camarines Sur'\"],\n",
       " [\"'name : P.J. Lhuillier Incorporated'\"],\n",
       " [\"('address : CC97+V9V, Lourdes Hospital Road, San Roque, City of Iriga, 4431 Camarines Sur, Philippines')\"],\n",
       " [\"'name : Kasapi Lending & Microfinance'\"],\n",
       " [\"'address : CCC8+7C4, Iriga, City of Iriga, Camarines Sur, Philippines'\"],\n",
       " [\"'name : BDO ATM'\"],\n",
       " [\"'address : CCC6+2Q City of Iriga, Camarines Sur'\"],\n",
       " ['', 'Events'],\n",
       " ['Tinagba Festival']]"
      ]
     },
     "execution_count": 38,
     "metadata": {},
     "output_type": "execute_result"
    }
   ],
   "source": [
    "str_list"
   ]
  }
 ],
 "metadata": {
  "kernelspec": {
   "display_name": "Python 3",
   "language": "python",
   "name": "python3"
  },
  "language_info": {
   "codemirror_mode": {
    "name": "ipython",
    "version": 3
   },
   "file_extension": ".py",
   "mimetype": "text/x-python",
   "name": "python",
   "nbconvert_exporter": "python",
   "pygments_lexer": "ipython3",
   "version": "3.10.9"
  },
  "orig_nbformat": 4,
  "vscode": {
   "interpreter": {
    "hash": "3b7e9cb8e453d6cda0fe8c8dd13f891a1f09162f0e7c66ffeae7751a7aecf00d"
   }
  }
 },
 "nbformat": 4,
 "nbformat_minor": 2
}
